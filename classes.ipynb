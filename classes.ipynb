{
 "cells": [
  {
   "cell_type": "code",
   "execution_count": 42,
   "metadata": {},
   "outputs": [
    {
     "name": "stdout",
     "output_type": "stream",
     "text": [
      "<Student: James>\n"
     ]
    },
    {
     "data": {
      "text/plain": [
       "12960"
      ]
     },
     "execution_count": 42,
     "metadata": {},
     "output_type": "execute_result"
    }
   ],
   "source": [
    "class Student:\n",
    "\tdef __init__(self, name: str, grades: list[float]) -> None:\n",
    "\t\tself.name = name\n",
    "\t\tself.grades = grades\n",
    "\t\n",
    "\tdef average(self):\n",
    "\t\treturn sum(self.grades) / len(self.grades)\n",
    "\t\n",
    "\t#def __len__(self):\n",
    "\t#\treturn len(self.grades)\n",
    "\n",
    "\tdef __getitem__(self, index: int):\n",
    "\t\treturn self.grades[index]\n",
    "\t\n",
    "\tdef __repr__(self) -> str:\n",
    "\t\treturn f'<Student: {self.name}>'\n",
    "\t\n",
    "\n",
    "st = Student('James', [20, 20, 18, 19, 20])\n",
    "#print(len(st))\n",
    "#print(st[2])\n",
    "print(st)\n",
    "\n",
    "\n",
    "class WorkingStudent(Student):\n",
    "\tdef __init__(self, salary, *args, **kwargs):\n",
    "\t\tsuper().__init__(*args, **kwargs)\n",
    "\t\tself.salary = salary\n",
    "\t\n",
    "\t@property\n",
    "\tdef annual_salary(self):\n",
    "\t\treturn 12 * 30 * 3 * self.salary\n",
    "\t\n",
    "\n",
    "wst = WorkingStudent(12, 'Mairo', [20, 10])\n",
    "wst.annual_salary"
   ]
  },
  {
   "cell_type": "code",
   "execution_count": 41,
   "metadata": {},
   "outputs": [
    {
     "name": "stdout",
     "output_type": "stream",
     "text": [
      "10\n",
      "11\n",
      "12\n",
      "13\n",
      "14\n",
      "15\n",
      "16\n",
      "17\n",
      "18\n"
     ]
    }
   ],
   "source": [
    "for item in Student('x', list(range(10, 19))):\n",
    "\tprint(item)"
   ]
  },
  {
   "cell_type": "code",
   "execution_count": 48,
   "metadata": {},
   "outputs": [
    {
     "name": "stdout",
     "output_type": "stream",
     "text": [
      "<class 'type'>\n",
      "<class '__main__.Student'>\n",
      "__main__\n"
     ]
    }
   ],
   "source": [
    "print(type(Student))\n",
    "print(type(st))\n",
    "print(Student.)"
   ]
  }
 ],
 "metadata": {
  "kernelspec": {
   "display_name": "Python 3",
   "language": "python",
   "name": "python3"
  },
  "language_info": {
   "codemirror_mode": {
    "name": "ipython",
    "version": 3
   },
   "file_extension": ".py",
   "mimetype": "text/x-python",
   "name": "python",
   "nbconvert_exporter": "python",
   "pygments_lexer": "ipython3",
   "version": "3.11.2"
  }
 },
 "nbformat": 4,
 "nbformat_minor": 2
}
