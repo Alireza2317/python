{
 "cells": [
  {
   "cell_type": "code",
   "execution_count": 17,
   "metadata": {},
   "outputs": [
    {
     "name": "stdout",
     "output_type": "stream",
     "text": [
      "1\n",
      "2\n",
      "1\n"
     ]
    }
   ],
   "source": [
    "def gen():\n",
    "\tyield 1\n",
    "\tyield 2\n",
    "\tyield 3\n",
    "\n",
    "g = gen()\n",
    "f = gen()\n",
    "print(next(g))\n",
    "print(next(g))\n",
    "print(next(f))"
   ]
  },
  {
   "cell_type": "code",
   "execution_count": 37,
   "metadata": {},
   "outputs": [
    {
     "name": "stdout",
     "output_type": "stream",
     "text": [
      "<class 'type'>\n",
      "<class '__main__.Gen'>\n",
      "0\n",
      "1\n",
      "2\n"
     ]
    },
    {
     "ename": "StopIteration",
     "evalue": "",
     "output_type": "error",
     "traceback": [
      "\u001b[0;31m---------------------------------------------------------------------------\u001b[0m",
      "\u001b[0;31mStopIteration\u001b[0m                             Traceback (most recent call last)",
      "Cell \u001b[0;32mIn[37], line 20\u001b[0m\n\u001b[1;32m     18\u001b[0m \u001b[38;5;28mprint\u001b[39m(\u001b[38;5;28mnext\u001b[39m(g))\n\u001b[1;32m     19\u001b[0m \u001b[38;5;28mprint\u001b[39m(\u001b[38;5;28mnext\u001b[39m(g))\n\u001b[0;32m---> 20\u001b[0m \u001b[38;5;28mprint\u001b[39m(\u001b[38;5;28;43mnext\u001b[39;49m\u001b[43m(\u001b[49m\u001b[43mg\u001b[49m\u001b[43m)\u001b[49m)\n",
      "Cell \u001b[0;32mIn[37], line 11\u001b[0m, in \u001b[0;36mGen.__next__\u001b[0;34m(self)\u001b[0m\n\u001b[1;32m      9\u001b[0m \t\u001b[38;5;28;01mreturn\u001b[39;00m current\n\u001b[1;32m     10\u001b[0m \u001b[38;5;28;01melse\u001b[39;00m:\n\u001b[0;32m---> 11\u001b[0m \t\u001b[38;5;28;01mraise\u001b[39;00m \u001b[38;5;167;01mStopIteration\u001b[39;00m\n",
      "\u001b[0;31mStopIteration\u001b[0m: "
     ]
    }
   ],
   "source": [
    "class Gen:\n",
    "\tdef __init__(self) -> None:\n",
    "\t\tself.number = 0\n",
    "\n",
    "\tdef __next__(self):\n",
    "\t\tif self.number < 3:\n",
    "\t\t\tcurrent = self.number\n",
    "\t\t\tself.number += 1\n",
    "\t\t\treturn current\n",
    "\t\telse:\n",
    "\t\t\traise StopIteration\n",
    "\n",
    "g = Gen()\n",
    "print(type(Gen))\n",
    "print(type(g))\n",
    "\n",
    "print(next(g))\n",
    "print(next(g))\n",
    "print(next(g))\n",
    "print(next(g))"
   ]
  },
  {
   "cell_type": "code",
   "execution_count": 46,
   "metadata": {},
   "outputs": [
    {
     "name": "stdout",
     "output_type": "stream",
     "text": [
      "GenIter\n"
     ]
    }
   ],
   "source": [
    "class GenIter:\n",
    "\tdef __init__(self) -> None:\n",
    "\t\tself.number = 0\n",
    "\n",
    "\tdef __next__(self):\n",
    "\t\tif self.number < 3:\n",
    "\t\t\tcurrent = self.number\n",
    "\t\t\tself.number += 1\n",
    "\t\t\treturn current\n",
    "\t\telse:\n",
    "\t\t\traise StopIteration\n",
    "\t\n",
    "\tdef __iter__(self):\n",
    "\t\treturn self\n",
    "\n",
    "print(GenIter.__name__)"
   ]
  }
 ],
 "metadata": {
  "kernelspec": {
   "display_name": "Python 3",
   "language": "python",
   "name": "python3"
  },
  "language_info": {
   "codemirror_mode": {
    "name": "ipython",
    "version": 3
   },
   "file_extension": ".py",
   "mimetype": "text/x-python",
   "name": "python",
   "nbconvert_exporter": "python",
   "pygments_lexer": "ipython3",
   "version": "3.11.2"
  }
 },
 "nbformat": 4,
 "nbformat_minor": 2
}
