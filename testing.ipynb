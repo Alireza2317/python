{
 "cells": [
  {
   "cell_type": "code",
   "execution_count": 43,
   "metadata": {},
   "outputs": [
    {
     "name": "stdout",
     "output_type": "stream",
     "text": [
      "0.009938477850009803\n"
     ]
    }
   ],
   "source": [
    "import random\n",
    "import time\n",
    "\n",
    "time1 = 0\n",
    "for i in range(100):\n",
    "\trandom_chars = [random.choice(seq='abcdefghijklmnopqrstuvwxyz') for _ in range(5_000_000)]\n",
    "\tstart = time.perf_counter()\n",
    "\tfilt1 = filter(lambda name: name.starswith('r'), random_chars)\n",
    "\tstop = time.perf_counter()\n",
    "\ttime1 += (stop - start)\n",
    "time1 /= 100\n",
    "print(time1)\n",
    "\n",
    "time2 = 0\n",
    "for i in range(100):\n",
    "\trandom_chars = [random.choice(seq='abcdefghijklmnopqrstuvwxyz') for _ in range(5_000_000)]\n",
    "\tstart = time.perf_counter()\n",
    "\tfilt2 = (item for item in random_chars if item.startswith('r'))\n",
    "\tstop = time.perf_counter()\n",
    "\ttime2 += (stop - start)\n",
    "time2 /= 100\n",
    "print(time2)\n"
   ]
  }
 ],
 "metadata": {
  "kernelspec": {
   "display_name": "Python 3",
   "language": "python",
   "name": "python3"
  },
  "language_info": {
   "codemirror_mode": {
    "name": "ipython",
    "version": 3
   },
   "file_extension": ".py",
   "mimetype": "text/x-python",
   "name": "python",
   "nbconvert_exporter": "python",
   "pygments_lexer": "ipython3",
   "version": "3.11.2"
  }
 },
 "nbformat": 4,
 "nbformat_minor": 2
}
