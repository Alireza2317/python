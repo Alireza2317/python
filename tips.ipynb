{
 "cells": [
  {
   "cell_type": "code",
   "execution_count": 5,
   "metadata": {},
   "outputs": [
    {
     "name": "stdout",
     "output_type": "stream",
     "text": [
      "[0, 1, 2, 3, 4, 5, 6, 7, 8, 9]\n",
      "[8, 9]\n",
      "[5, 3]\n"
     ]
    }
   ],
   "source": [
    "# list slicing\n",
    "nums = list(range(10))\n",
    "print(nums)\n",
    "print(nums[-2:])\n",
    "print(nums[5:1:-2])"
   ]
  },
  {
   "cell_type": "code",
   "execution_count": 2,
   "metadata": {},
   "outputs": [
    {
     "data": {
      "text/plain": [
       "16"
      ]
     },
     "execution_count": 2,
     "metadata": {},
     "output_type": "execute_result"
    }
   ],
   "source": [
    "# lambda\n",
    "div = lambda x: 2*x\n",
    "div(8)"
   ]
  },
  {
   "cell_type": "code",
   "execution_count": 9,
   "metadata": {},
   "outputs": [
    {
     "name": "stdout",
     "output_type": "stream",
     "text": [
      "11\n",
      "11\n"
     ]
    }
   ],
   "source": [
    "# forced positional and keyword params\n",
    "def function(x, y, /, z, *, k):\n",
    "\t#* x and y should only be passed positionally\n",
    "\t#* z can be passed in both formats\n",
    "\t#* k should only be passed by keywords\n",
    "\n",
    "\treturn x + y + z + k\n",
    "\n",
    "print(function(1, 2, 3, k=5))\n",
    "print(function(1, 2, z=3, k=5))\n"
   ]
  },
  {
   "cell_type": "code",
   "execution_count": 10,
   "metadata": {},
   "outputs": [
    {
     "data": {
      "text/plain": [
       "[0, 2, 4, 6, 8]"
      ]
     },
     "execution_count": 10,
     "metadata": {},
     "output_type": "execute_result"
    }
   ],
   "source": [
    "# saving the slice\n",
    "rev = slice(None, None, 2)\n",
    "\n",
    "nums = list(range(10))\n",
    "\n",
    "nums[rev]"
   ]
  },
  {
   "cell_type": "code",
   "execution_count": 12,
   "metadata": {},
   "outputs": [
    {
     "name": "stdout",
     "output_type": "stream",
     "text": [
      "{1, 2, 3, 4, 5, 6, 7}\n",
      "{1, 2, 3}\n",
      "{1, 2, 3, 6, 7}\n",
      "{4, 5}\n"
     ]
    }
   ],
   "source": [
    "# sets math\n",
    "set_a = {1, 2, 3, 4, 5}\n",
    "set_b = {4, 5, 6, 7}\n",
    "\n",
    "print(set_a | set_b) #* union\n",
    "print(set_a - set_b) #* difference\n",
    "print(set_a ^ set_b) #* symmetric difference\n",
    "print(set_a & set_b) #* intersection\n",
    "\n"
   ]
  },
  {
   "cell_type": "code",
   "execution_count": 14,
   "metadata": {},
   "outputs": [
    {
     "name": "stdout",
     "output_type": "stream",
     "text": [
      "this book is named: OF MICE AND MEN and it would take 3.33 hours to read!\n"
     ]
    }
   ],
   "source": [
    "# f-strring specifier\n",
    "\n",
    "class Book:\n",
    "\tdef __init__(self, title: str, pages: int) -> None:\n",
    "\t\tself.title = title\n",
    "\t\tself.pages = pages\n",
    "\t\n",
    "\tdef __format__(self, __format_spec: str) -> str:\n",
    "\t\tmatch __format_spec:\n",
    "\t\t\tcase 'time':\n",
    "\t\t\t\treturn f'{self.pages / 60:.2f} hours'\n",
    "\t\t\tcase 'caps':\n",
    "\t\t\t\treturn self.title.upper()\n",
    "\n",
    "\n",
    "book = Book('Of Mice and Men', 200)\n",
    "\n",
    "print(f'this book is named: {book:caps} and it would take {book:time} to read!')"
   ]
  },
  {
   "cell_type": "code",
   "execution_count": 21,
   "metadata": {},
   "outputs": [
    {
     "name": "stdout",
     "output_type": "stream",
     "text": [
      "doesnt exist\n",
      "user Mario exists\n"
     ]
    }
   ],
   "source": [
    "# wallrus operator\n",
    "\n",
    "#! example without wallrus\n",
    "users = {\n",
    "\t0: 'Bob',\n",
    "\t1: 'Mario'\n",
    "}\n",
    "user = users.get(3)\n",
    "if user:\n",
    "\tprint(f'user {user} exists')\n",
    "else:\n",
    "\tprint('doesnt exist')\n",
    "\n",
    "\n",
    "#* wallrus -> assignment and outputing at the same time\n",
    "if user := users.get(1):\n",
    "\tprint(f'user {user} exists')\n",
    "else:\n",
    "\tprint('doesnt exist')\n",
    "\t\n",
    "\n",
    "#* it can be used anywhere, not just in an if statement"
   ]
  },
  {
   "cell_type": "code",
   "execution_count": 22,
   "metadata": {},
   "outputs": [
    {
     "name": "stdout",
     "output_type": "stream",
     "text": [
      "46\n",
      "51\n"
     ]
    }
   ],
   "source": [
    "# functional programming ideas\n",
    "from typing import Callable\n",
    "\n",
    "def multiplier(a: float) -> Callable:\n",
    "\tdef multiply(b: float):\n",
    "\t\treturn a * b\n",
    "\n",
    "\treturn multiply\n",
    "\n",
    "doubler = multiplier(2)\n",
    "tripler = multiplier(3)\n",
    "\n",
    "print(doubler(23))\n",
    "print(tripler(17))"
   ]
  },
  {
   "cell_type": "code",
   "execution_count": null,
   "metadata": {},
   "outputs": [],
   "source": []
  }
 ],
 "metadata": {
  "kernelspec": {
   "display_name": "Python 3",
   "language": "python",
   "name": "python3"
  },
  "language_info": {
   "codemirror_mode": {
    "name": "ipython",
    "version": 3
   },
   "file_extension": ".py",
   "mimetype": "text/x-python",
   "name": "python",
   "nbconvert_exporter": "python",
   "pygments_lexer": "ipython3",
   "version": "3.11.2"
  }
 },
 "nbformat": 4,
 "nbformat_minor": 2
}
