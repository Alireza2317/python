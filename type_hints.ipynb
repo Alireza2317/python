{
 "cells": [
  {
   "cell_type": "code",
   "execution_count": 10,
   "metadata": {},
   "outputs": [
    {
     "data": {
      "text/plain": [
       "[{0: 'hi', 1: 'bye', 2: 7}]"
      ]
     },
     "execution_count": 10,
     "metadata": {},
     "output_type": "execute_result"
    }
   ],
   "source": [
    "\n",
    "ls = [\n",
    "\t{\n",
    "\t\t0: 'hi',\n",
    "\t\t1: 'bye',\n",
    "\t\t2: 7\n",
    "\t}\n",
    "]\n",
    "\n",
    "books = list[dict[int, str | int]]\n",
    "\n",
    "def func(inp: books):\n",
    "\treturn inp\n",
    "\n",
    "func(ls)"
   ]
  },
  {
   "cell_type": "code",
   "execution_count": null,
   "metadata": {},
   "outputs": [],
   "source": []
  }
 ],
 "metadata": {
  "kernelspec": {
   "display_name": "Python 3",
   "language": "python",
   "name": "python3"
  },
  "language_info": {
   "codemirror_mode": {
    "name": "ipython",
    "version": 3
   },
   "file_extension": ".py",
   "mimetype": "text/x-python",
   "name": "python",
   "nbconvert_exporter": "python",
   "pygments_lexer": "ipython3",
   "version": "3.11.2"
  }
 },
 "nbformat": 4,
 "nbformat_minor": 2
}
